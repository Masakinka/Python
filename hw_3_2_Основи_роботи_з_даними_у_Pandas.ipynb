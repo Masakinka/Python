{
  "nbformat": 4,
  "nbformat_minor": 0,
  "metadata": {
    "colab": {
      "provenance": [],
      "include_colab_link": true
    },
    "kernelspec": {
      "name": "python3",
      "display_name": "Python 3"
    },
    "language_info": {
      "name": "python"
    }
  },
  "cells": [
    {
      "cell_type": "markdown",
      "metadata": {
        "id": "view-in-github",
        "colab_type": "text"
      },
      "source": [
        "<a href=\"https://colab.research.google.com/github/Masakinka/Python/blob/main/hw_3_2_%D0%9E%D1%81%D0%BD%D0%BE%D0%B2%D0%B8_%D1%80%D0%BE%D0%B1%D0%BE%D1%82%D0%B8_%D0%B7_%D0%B4%D0%B0%D0%BD%D0%B8%D0%BC%D0%B8_%D1%83_Pandas.ipynb\" target=\"_parent\"><img src=\"https://colab.research.google.com/assets/colab-badge.svg\" alt=\"Open In Colab\"/></a>"
      ]
    },
    {
      "cell_type": "markdown",
      "source": [
        "# Домашнє завдання до теми \"Основи роботи з даними у Pandas\""
      ],
      "metadata": {
        "id": "olyuwbpjrmvn"
      }
    },
    {
      "cell_type": "markdown",
      "source": [
        "В цьому домашньому завданні продовжуємо працювати з набором даних `supermarket_sales.csv`."
      ],
      "metadata": {
        "id": "vP2PEJyq8Yrj"
      }
    },
    {
      "cell_type": "markdown",
      "source": [
        "0. Імпортуйте бібліотеку pandas та зчитайте дані у змінну `df` типу `pandas.DataFrame`."
      ],
      "metadata": {
        "id": "dh9lfpDb8gBL"
      }
    },
    {
      "cell_type": "code",
      "source": [
        "import pandas as pd"
      ],
      "metadata": {
        "id": "xBI9gJMK8qnl"
      },
      "execution_count": 3,
      "outputs": []
    },
    {
      "cell_type": "markdown",
      "metadata": {
        "ExecuteTime": {
          "end_time": "2021-09-20T19:44:56.499824Z",
          "start_time": "2021-09-20T19:44:56.496923Z"
        },
        "id": "ca064875"
      },
      "source": [
        "1. За допомогою бібліотеки Pandas виведіть перші 4 і останні 4 записи у наборі даних (це дві окремі команди). Треба саме 4! Не 5.\n",
        "\n",
        "\n",
        "\n",
        "\n",
        "\n"
      ]
    },
    {
      "cell_type": "code",
      "execution_count": 4,
      "metadata": {
        "ExecuteTime": {
          "end_time": "2021-12-08T18:46:42.601691Z",
          "start_time": "2021-12-08T18:46:42.570962Z"
        },
        "id": "d095f26b",
        "colab": {
          "base_uri": "https://localhost:8080/"
        },
        "outputId": "b82cb664-029b-4c18-85f6-816b288861b1"
      },
      "outputs": [
        {
          "output_type": "stream",
          "name": "stdout",
          "text": [
            "Mounted at /content/drive\n"
          ]
        }
      ],
      "source": [
        "from google.colab import drive\n",
        "drive.mount('/content/drive')"
      ]
    },
    {
      "cell_type": "code",
      "source": [
        "df = pd.read_csv('drive/MyDrive/Colab Notebooks/data/supermarket_sales.csv')"
      ],
      "metadata": {
        "id": "EA9JN41yTSAz"
      },
      "execution_count": 5,
      "outputs": []
    },
    {
      "cell_type": "code",
      "source": [
        "print(df.head(4))"
      ],
      "metadata": {
        "colab": {
          "base_uri": "https://localhost:8080/"
        },
        "id": "w-LTkkJjTT2D",
        "outputId": "e825d6e4-c502-4cdd-d075-96dbbf079dcb"
      },
      "execution_count": 7,
      "outputs": [
        {
          "output_type": "stream",
          "name": "stdout",
          "text": [
            "    Invoice ID Branch       City Customer type  Gender  \\\n",
            "0  750-67-8428      A     Yangon        Member  Female   \n",
            "1  226-31-3081      C  Naypyitaw        Normal  Female   \n",
            "2  631-41-3108      A     Yangon        Normal    Male   \n",
            "3  123-19-1176      A     Yangon        Member    Male   \n",
            "\n",
            "             Product line  Unit price  Quantity   Tax 5%     Total       Date  \\\n",
            "0       Health and beauty       74.69         7  26.1415  548.9715   1/5/2019   \n",
            "1  Electronic accessories       15.28         5   3.8200   80.2200   3/8/2019   \n",
            "2      Home and lifestyle       46.33         7  16.2155  340.5255   3/3/2019   \n",
            "3       Health and beauty       58.22         8  23.2880  489.0480  1/27/2019   \n",
            "\n",
            "    Time      Payment    cogs  gross margin percentage  gross income  Rating  \n",
            "0  13:08      Ewallet  522.83                 4.761905       26.1415     9.1  \n",
            "1  10:29         Cash   76.40                 4.761905        3.8200     9.6  \n",
            "2  13:23  Credit card  324.31                 4.761905       16.2155     7.4  \n",
            "3  20:33      Ewallet  465.76                 4.761905       23.2880     8.4  \n"
          ]
        }
      ]
    },
    {
      "cell_type": "code",
      "source": [
        "print(df.tail(4))"
      ],
      "metadata": {
        "colab": {
          "base_uri": "https://localhost:8080/"
        },
        "id": "99Y4FUKVTsgp",
        "outputId": "ba521da1-f37b-49da-ab78-4836d98dbaa0"
      },
      "execution_count": 8,
      "outputs": [
        {
          "output_type": "stream",
          "name": "stdout",
          "text": [
            "      Invoice ID Branch      City Customer type  Gender         Product line  \\\n",
            "996  303-96-2227      B  Mandalay        Normal  Female   Home and lifestyle   \n",
            "997  727-02-1313      A    Yangon        Member    Male   Food and beverages   \n",
            "998  347-56-2442      A    Yangon        Normal    Male   Home and lifestyle   \n",
            "999  849-09-3807      A    Yangon        Member  Female  Fashion accessories   \n",
            "\n",
            "     Unit price  Quantity  Tax 5%     Total       Date   Time  Payment  \\\n",
            "996       97.38        10  48.690  1022.490   3/2/2019  17:16  Ewallet   \n",
            "997       31.84         1   1.592    33.432   2/9/2019  13:22     Cash   \n",
            "998       65.82         1   3.291    69.111  2/22/2019  15:33     Cash   \n",
            "999       88.34         7  30.919   649.299  2/18/2019  13:28     Cash   \n",
            "\n",
            "       cogs  gross margin percentage  gross income  Rating  \n",
            "996  973.80                 4.761905        48.690     4.4  \n",
            "997   31.84                 4.761905         1.592     7.7  \n",
            "998   65.82                 4.761905         3.291     4.1  \n",
            "999  618.38                 4.761905        30.919     6.6  \n"
          ]
        }
      ]
    },
    {
      "cell_type": "markdown",
      "metadata": {
        "ExecuteTime": {
          "end_time": "2022-11-01T16:50:46.961201Z",
          "start_time": "2022-11-01T16:50:46.955894Z"
        },
        "id": "3e4c4fb3"
      },
      "source": [
        "Очікуваний результат:"
      ]
    },
    {
      "cell_type": "markdown",
      "metadata": {
        "id": "f037ac2b"
      },
      "source": [
        "![](https://drive.google.com/uc?export=view&id=1F5XlzBOOTMsedpsYqz6NnXjIPTDe6jpx)"
      ]
    },
    {
      "cell_type": "markdown",
      "source": [
        "2. Виведіть рядки даних з індексами з 615 по 619 включно."
      ],
      "metadata": {
        "id": "167fuYhB_nCP"
      }
    },
    {
      "cell_type": "code",
      "source": [
        "print(df.loc[615:619])"
      ],
      "metadata": {
        "id": "ytZryG8Z_1f_",
        "colab": {
          "base_uri": "https://localhost:8080/"
        },
        "outputId": "40f74761-9767-4643-990c-54a37f23fd5a"
      },
      "execution_count": 9,
      "outputs": [
        {
          "output_type": "stream",
          "name": "stdout",
          "text": [
            "      Invoice ID Branch       City Customer type  Gender  \\\n",
            "615  509-29-3912      A     Yangon        Member  Female   \n",
            "616  327-40-9673      B   Mandalay        Member    Male   \n",
            "617  840-19-2096      C  Naypyitaw        Member    Male   \n",
            "618  828-46-6863      A     Yangon        Member    Male   \n",
            "619  641-96-3695      C  Naypyitaw        Member  Female   \n",
            "\n",
            "               Product line  Unit price  Quantity   Tax 5%     Total  \\\n",
            "615       Sports and travel       38.72         9  17.4240  365.9040   \n",
            "616       Sports and travel       72.60         6  21.7800  457.3800   \n",
            "617  Electronic accessories       87.91         5  21.9775  461.5275   \n",
            "618      Food and beverages       98.53         6  29.5590  620.7390   \n",
            "619     Fashion accessories       43.46         6  13.0380  273.7980   \n",
            "\n",
            "          Date   Time      Payment    cogs  gross margin percentage  \\\n",
            "615  3/20/2019  12:24      Ewallet  348.48                 4.761905   \n",
            "616  1/13/2019  19:51         Cash  435.60                 4.761905   \n",
            "617  3/14/2019  18:10      Ewallet  439.55                 4.761905   \n",
            "618  1/23/2019  11:22  Credit card  591.18                 4.761905   \n",
            "619   2/7/2019  17:55      Ewallet  260.76                 4.761905   \n",
            "\n",
            "     gross income  Rating  \n",
            "615       17.4240     4.2  \n",
            "616       21.7800     6.9  \n",
            "617       21.9775     4.4  \n",
            "618       29.5590     4.0  \n",
            "619       13.0380     8.5  \n"
          ]
        }
      ]
    },
    {
      "cell_type": "markdown",
      "source": [
        "Очікуваний результат:"
      ],
      "metadata": {
        "id": "uMLwIMBlhAcY"
      }
    },
    {
      "cell_type": "markdown",
      "source": [
        "![](https://drive.google.com/uc?export=view&id=1Otufe_TXRmjZxWigzBiVBLCAVUfEReXM)"
      ],
      "metadata": {
        "id": "yxrvqGnNhCsX"
      }
    },
    {
      "cell_type": "markdown",
      "metadata": {
        "id": "2d54e0e4"
      },
      "source": [
        "3. Виведіть назви колонок у наборі даних разом з їхніми типами. Це можна зробити кількома способами, важливо аби в результаті були назви колонок і відповідні їм типи."
      ]
    },
    {
      "cell_type": "code",
      "execution_count": 10,
      "metadata": {
        "ExecuteTime": {
          "end_time": "2021-12-08T18:46:42.609601Z",
          "start_time": "2021-12-08T18:46:42.604424Z"
        },
        "id": "513f5a99",
        "colab": {
          "base_uri": "https://localhost:8080/"
        },
        "outputId": "4036075d-1dcc-4360-a434-c6c201aab6e3"
      },
      "outputs": [
        {
          "output_type": "stream",
          "name": "stdout",
          "text": [
            "Invoice ID                  object\n",
            "Branch                      object\n",
            "City                        object\n",
            "Customer type               object\n",
            "Gender                      object\n",
            "Product line                object\n",
            "Unit price                 float64\n",
            "Quantity                     int64\n",
            "Tax 5%                     float64\n",
            "Total                      float64\n",
            "Date                        object\n",
            "Time                        object\n",
            "Payment                     object\n",
            "cogs                       float64\n",
            "gross margin percentage    float64\n",
            "gross income               float64\n",
            "Rating                     float64\n",
            "dtype: object\n"
          ]
        }
      ],
      "source": [
        "print(df.dtypes)"
      ]
    },
    {
      "cell_type": "code",
      "source": [
        "df.info()"
      ],
      "metadata": {
        "colab": {
          "base_uri": "https://localhost:8080/"
        },
        "id": "sk-Fw0LBUBAJ",
        "outputId": "0f871a5a-8f07-4b60-f67a-b1432cd0c570"
      },
      "execution_count": 11,
      "outputs": [
        {
          "output_type": "stream",
          "name": "stdout",
          "text": [
            "<class 'pandas.core.frame.DataFrame'>\n",
            "RangeIndex: 1000 entries, 0 to 999\n",
            "Data columns (total 17 columns):\n",
            " #   Column                   Non-Null Count  Dtype  \n",
            "---  ------                   --------------  -----  \n",
            " 0   Invoice ID               1000 non-null   object \n",
            " 1   Branch                   1000 non-null   object \n",
            " 2   City                     1000 non-null   object \n",
            " 3   Customer type            1000 non-null   object \n",
            " 4   Gender                   1000 non-null   object \n",
            " 5   Product line             1000 non-null   object \n",
            " 6   Unit price               1000 non-null   float64\n",
            " 7   Quantity                 1000 non-null   int64  \n",
            " 8   Tax 5%                   1000 non-null   float64\n",
            " 9   Total                    1000 non-null   float64\n",
            " 10  Date                     1000 non-null   object \n",
            " 11  Time                     1000 non-null   object \n",
            " 12  Payment                  1000 non-null   object \n",
            " 13  cogs                     1000 non-null   float64\n",
            " 14  gross margin percentage  1000 non-null   float64\n",
            " 15  gross income             1000 non-null   float64\n",
            " 16  Rating                   1000 non-null   float64\n",
            "dtypes: float64(7), int64(1), object(9)\n",
            "memory usage: 132.9+ KB\n"
          ]
        }
      ]
    },
    {
      "cell_type": "markdown",
      "metadata": {
        "ExecuteTime": {
          "end_time": "2022-11-01T16:50:46.961201Z",
          "start_time": "2022-11-01T16:50:46.955894Z"
        },
        "id": "3c380f93"
      },
      "source": [
        "Очікуваний результат (один з можливих форматів):"
      ]
    },
    {
      "cell_type": "markdown",
      "metadata": {
        "id": "28f7beff"
      },
      "source": [
        "![](https://drive.google.com/uc?export=view&id=1ASh6-S-_f3X9fTQAPIvnHMFZamTBjNkL)"
      ]
    },
    {
      "cell_type": "markdown",
      "source": [
        "4. Користуючись методом `DataFrame.describe()` виявіть 1, 25, 50, 75 і 99\n",
        "\n",
        "---\n",
        "\n",
        "персентилі колонки `gross income`. Знайдіть, яке значення відповідає 75отму персентилю цієї колонки і що це означає? Як би Ви його пояснили простими словами колегам? Відповідь напишіть текстом в окремій клітинці типу Markdown."
      ],
      "metadata": {
        "id": "aX2LEmuG8xyA"
      }
    },
    {
      "cell_type": "code",
      "source": [
        "percentiles = df['gross income'].describe(percentiles=[0.01, 0.25, 0.50, 0.75, 0.99])\n",
        "print(percentiles)"
      ],
      "metadata": {
        "id": "Paso6rPV894s",
        "colab": {
          "base_uri": "https://localhost:8080/"
        },
        "outputId": "1a560d38-4d96-4c6f-cdad-d4d511a4d89e"
      },
      "execution_count": 12,
      "outputs": [
        {
          "output_type": "stream",
          "name": "stdout",
          "text": [
            "count    1000.000000\n",
            "mean       15.379369\n",
            "std        11.708825\n",
            "min         0.508500\n",
            "1%          0.913735\n",
            "25%         5.924875\n",
            "50%        12.088000\n",
            "75%        22.445250\n",
            "99%        45.250750\n",
            "max        49.650000\n",
            "Name: gross income, dtype: float64\n"
          ]
        }
      ]
    },
    {
      "cell_type": "markdown",
      "source": [
        "Наприклад, розташувуэмо всі значення gross income в порядку зростання. Після цього, якщо пійти від найменшого значення до верху списку, то 75-й персентиль - це точка, де ми пройшли 75% всіх значень. Це означає, що лише 25% значень мають більшу величину доходу, ніж ця точка. Тобто, це свого роду \"верхня межа середнього класу\" у термінах доходу: більшість (75%) заробляють менше цього значення, тоді як меншість (25%) - більше.\n",
        "\n",
        "\n"
      ],
      "metadata": {
        "id": "Vedm9HxhUkKG"
      }
    },
    {
      "cell_type": "markdown",
      "source": [
        "Очікуваний результат:"
      ],
      "metadata": {
        "id": "HX-oXoo4jCuE"
      }
    },
    {
      "cell_type": "markdown",
      "source": [
        "![](https://drive.google.com/uc?export=view&id=1bDa1YFUWDsPm78Lnpy2geQND8M1HEQiT)"
      ],
      "metadata": {
        "id": "Qi9Qi8LhjFRw"
      }
    },
    {
      "cell_type": "markdown",
      "source": [
        "5. Виведіть кількість інвойсів за кожним унікальним містом в наборі даних.\n",
        "\n",
        "  Підказка: інвойс - це один рядок в цьому наборі даних, ми можемо цим скористатись аби швидко отримати відповідь."
      ],
      "metadata": {
        "id": "X2FWqJYr9Eul"
      }
    },
    {
      "cell_type": "code",
      "source": [
        "invoice_count_by_city = df['City'].value_counts()\n",
        "print(invoice_count_by_city)"
      ],
      "metadata": {
        "id": "StVtKfWY-13y",
        "colab": {
          "base_uri": "https://localhost:8080/"
        },
        "outputId": "b582115e-70b4-4f80-9664-15f6835e7666"
      },
      "execution_count": 13,
      "outputs": [
        {
          "output_type": "stream",
          "name": "stdout",
          "text": [
            "Yangon       340\n",
            "Mandalay     332\n",
            "Naypyitaw    328\n",
            "Name: City, dtype: int64\n"
          ]
        }
      ]
    },
    {
      "cell_type": "markdown",
      "source": [
        "Очікуваний результат:"
      ],
      "metadata": {
        "id": "MxdJBddujhRx"
      }
    },
    {
      "cell_type": "markdown",
      "source": [
        "![](https://drive.google.com/uc?export=view&id=1G8c6M875NOW7oU3OtZegTOnyD2y8lhAV)"
      ],
      "metadata": {
        "id": "DGmeHKZYjoTp"
      }
    },
    {
      "cell_type": "markdown",
      "source": [
        "6. Виведіть, який відсоток інвойсів припадає на кожне унікальне місто."
      ],
      "metadata": {
        "id": "-k-yG_rR-3Og"
      }
    },
    {
      "cell_type": "code",
      "source": [
        "percentage_by_city = (invoice_count_by_city / invoice_count_by_city.sum()) * 100\n",
        "print(percentage_by_city)"
      ],
      "metadata": {
        "id": "_PBLxP7B_LdF",
        "colab": {
          "base_uri": "https://localhost:8080/"
        },
        "outputId": "e71c6860-2a0d-4a6c-cde9-373c96465f32"
      },
      "execution_count": 14,
      "outputs": [
        {
          "output_type": "stream",
          "name": "stdout",
          "text": [
            "Yangon       34.0\n",
            "Mandalay     33.2\n",
            "Naypyitaw    32.8\n",
            "Name: City, dtype: float64\n"
          ]
        }
      ]
    },
    {
      "cell_type": "markdown",
      "source": [
        "Очікуваний результат:"
      ],
      "metadata": {
        "id": "hk_BB1Uxj_G5"
      }
    },
    {
      "cell_type": "markdown",
      "source": [
        "![](https://drive.google.com/uc?export=view&id=1yZZpWhL2y8DX9rSRioYCRh1VbJgcf3fY)"
      ],
      "metadata": {
        "id": "vAQ3z60ukBVG"
      }
    },
    {
      "cell_type": "markdown",
      "source": [
        "7.1. Використовуючи фільтрацію даних, знайдіть середнє значення `gross income` для міст `Yangon` та `Mandalay`. В якому місті воно більше?\n",
        "\n",
        "7.2 Сформулюйте 3 гіпотези, чому в одному місті gross income вище, як можна дізнатись чи правдива ця гіпотеза з використанням даних (наявних і додаткових), та як висновки з цих гіпотез можна використати для прийняття рішень як підвищити прибуток в мережі супермаркетів. Відповідь напишіть текстом в окремій клітинці типу Markdown.\n",
        "\n",
        "Це завдання - на продуктове мислення. Якщо не знаєте, які гіпотези сформулювати - напишіть ті, які здаються вам зовсім примітивними. Важливо навчитись висловлювати свої гіпотези щодо даних, і з часом та досвідом вони будуть ставати щоразу глибше і точніше. Весь аналіз даних будується на тому, що ми перевіряємо певні гіпотези та робимо висновки і рекоемндації на основі своїх досліджень."
      ],
      "metadata": {
        "id": "RUkVnzp_B5uZ"
      }
    },
    {
      "cell_type": "code",
      "source": [
        "yangon_mean = df[df['City'] == 'Yangon']['gross income'].mean()\n",
        "mandalay_mean = df[df['City'] == 'Mandalay']['gross income'].mean()\n",
        "\n",
        "yangon_mean, mandalay_mean"
      ],
      "metadata": {
        "colab": {
          "base_uri": "https://localhost:8080/"
        },
        "id": "bhZ-oKeiWU6n",
        "outputId": "04cf4982-d3ae-4188-aabf-3c1f65d23022"
      },
      "execution_count": 15,
      "outputs": [
        {
          "output_type": "execute_result",
          "data": {
            "text/plain": [
              "(14.874001470588235, 15.232024096385542)"
            ]
          },
          "metadata": {},
          "execution_count": 15
        }
      ]
    },
    {
      "cell_type": "markdown",
      "source": [
        "Гіпотеза 1: Різниця у популярності категорій продуктів\n",
        "Гіпотеза полягає в тому, що різні категорії продуктів можуть бути популярнішими в одному місті порівняно з іншим, що може впливати на gross income.\n",
        "\n",
        "Перевірка:\n",
        "\n",
        "Подивимося на розподіл продажів по категоріям продуктів у кожному місті.\n",
        "Визначимо, чи існують відмінності у популярності категорій між містами."
      ],
      "metadata": {
        "id": "kiWY6gY9XIBu"
      }
    },
    {
      "cell_type": "code",
      "source": [
        "df_filtered = df[df['City'].isin(['Yangon', 'Mandalay'])]\n",
        "category_income = df_filtered.groupby(['City', 'Product line'])['gross income'].mean().unstack()\n",
        "print(\"Середній дохід за категоріями продуктів:\\n\", category_income)"
      ],
      "metadata": {
        "id": "8RwoGA7l_OhV",
        "colab": {
          "base_uri": "https://localhost:8080/"
        },
        "outputId": "8269d401-ae1e-44d8-f53d-c6208bea65fc"
      },
      "execution_count": 16,
      "outputs": [
        {
          "output_type": "stream",
          "name": "stdout",
          "text": [
            "Середній дохід за категоріями продуктів:\n",
            " Product line  Electronic accessories  Fashion accessories  Food and beverages  \\\n",
            "City                                                                            \n",
            "Mandalay                   14.763155            12.606234           14.490370   \n",
            "Yangon                     14.537392            15.249775           14.091216   \n",
            "\n",
            "Product line  Health and beauty  Home and lifestyle  Sports and travel  \n",
            "City                                                                    \n",
            "Mandalay              17.952075           16.713490          15.351919  \n",
            "Yangon                12.763681           16.422854          15.635754  \n"
          ]
        }
      ]
    },
    {
      "cell_type": "markdown",
      "source": [
        "Гіпотеза 2: Вплив демографічних факторів\n",
        "Можливо, різниця у gross income пояснюється відмінностями в демографічних характеристиках покупців, наприклад, у віковому складі, статі або типі покупців (регулярні клієнти vs. випадкові).\n",
        "\n",
        "Перевірка:\n",
        "\n",
        "Аналіз демографічних даних покупців у кожному місті.\n",
        "Порівняння середнього gross income між різними групами покупців."
      ],
      "metadata": {
        "id": "rCKsPgzgYhV4"
      }
    },
    {
      "cell_type": "code",
      "source": [
        "demographic_income = df_filtered.groupby(['City', 'Gender'])['gross income'].mean().unstack()\n",
        "print(\"\\nСередній дохід за демографічними характеристиками:\\n\", demographic_income)"
      ],
      "metadata": {
        "colab": {
          "base_uri": "https://localhost:8080/"
        },
        "id": "olqE9u3CYa2l",
        "outputId": "27eb7fca-596a-41b6-c1fe-812350398438"
      },
      "execution_count": 17,
      "outputs": [
        {
          "output_type": "stream",
          "name": "stdout",
          "text": [
            "\n",
            "Середній дохід за демографічними характеристиками:\n",
            " Gender       Female       Male\n",
            "City                          \n",
            "Mandalay  15.557994  14.921394\n",
            "Yangon    15.755447  14.081193\n"
          ]
        }
      ]
    },
    {
      "cell_type": "markdown",
      "source": [
        "Гіпотеза 3: Різниця у методах оплати\n",
        "Можливо, спосіб оплати (готівка, кредитна картка, електронні гроші) впливає на величину покупок, а отже, і на gross income.\n",
        "\n",
        "Перевірка:\n",
        "\n",
        "Аналіз розподілу використаних способів оплати в обох містах.\n",
        "Визначення, чи існують кореляції між способом оплати та величиною gross income."
      ],
      "metadata": {
        "id": "mjs-flF_YgUJ"
      }
    },
    {
      "cell_type": "code",
      "source": [
        "payment_income = df_filtered.groupby(['City', 'Payment'])['gross income'].mean().unstack()\n",
        "print(\"\\nСередній дохід за способами оплати:\\n\", payment_income)"
      ],
      "metadata": {
        "colab": {
          "base_uri": "https://localhost:8080/"
        },
        "id": "JFHg_hsMY2kY",
        "outputId": "2724cb11-4ef0-4787-8967-3fbc38511cc3"
      },
      "execution_count": 18,
      "outputs": [
        {
          "output_type": "stream",
          "name": "stdout",
          "text": [
            "\n",
            "Середній дохід за способами оплати:\n",
            " Payment        Cash  Credit card    Ewallet\n",
            "City                                       \n",
            "Mandalay  15.298468    16.314922  14.122779\n",
            "Yangon    14.623918    15.153274  14.861817\n"
          ]
        }
      ]
    },
    {
      "cell_type": "markdown",
      "source": [
        "Очікуваний результат:"
      ],
      "metadata": {
        "id": "iXq3ODp1khy1"
      }
    },
    {
      "cell_type": "markdown",
      "source": [
        "![](https://drive.google.com/uc?export=view&id=1JdXUmK46WcoXUJYP7NS2SJlr2XjBbpQ8)"
      ],
      "metadata": {
        "id": "4lcu3YwqkkF8"
      }
    },
    {
      "cell_type": "markdown",
      "source": [
        "8. Для продовження дослідження різниці у прибутках в магазинах давайте зʼясуємо, чи відрізняється маржа ('gross margin percentage') для різних інвойсів в магазині? Перевірте це програмно на даних виходячи з того функціоналу, який ми вже пройшли у лекціях.\n",
        "\n",
        "Дайте на основі отриманого результату відповідь: \"У всіх всіх інвойсах однакова маржа\" або \"Маржа відрізняється для різних інвойсів\"."
      ],
      "metadata": {
        "id": "wNMcnnPQOrwb"
      }
    },
    {
      "cell_type": "code",
      "source": [
        "# Виведення унікальних значень маржі за містами\n",
        "margin_by_city = df_filtered.groupby('City')['gross margin percentage'].unique()\n",
        "\n",
        "unique_margins, margin_by_city"
      ],
      "metadata": {
        "colab": {
          "base_uri": "https://localhost:8080/"
        },
        "id": "tWLuOafVaEeA",
        "outputId": "74e5e3bc-ebbb-4a18-d9fa-bb39f0deb9c3"
      },
      "execution_count": 20,
      "outputs": [
        {
          "output_type": "execute_result",
          "data": {
            "text/plain": [
              "(1,\n",
              " City\n",
              " Mandalay    [4.761904762]\n",
              " Yangon      [4.761904762]\n",
              " Name: gross margin percentage, dtype: object)"
            ]
          },
          "metadata": {},
          "execution_count": 20
        }
      ]
    },
    {
      "cell_type": "code",
      "source": [
        "unique_margins = df_filtered['gross margin percentage'].nunique()\n",
        "\n",
        "# Виведення результату\n",
        "if unique_margins == 1:\n",
        "    result = f\"У всіх інвойсах однакова маржа := {unique_margins}\"\n",
        "else:\n",
        "    result = f\"Маржа відрізняється для різних інвойсів. Кількість унікальних значень маржі: {unique_margins}\"\n",
        "\n",
        "result\n",
        "#if unique_margins == 1:\n",
        "#    print(\"У всіх інвойсах однакова маржа\")\n",
        "#else:\n",
        "#    print(\"Маржа відрізняється для різних інвойсів\")"
      ],
      "metadata": {
        "id": "mTWYzSVaPNsb",
        "colab": {
          "base_uri": "https://localhost:8080/",
          "height": 36
        },
        "outputId": "c3f520da-f759-41ba-98a6-cf397b88086e"
      },
      "execution_count": 24,
      "outputs": [
        {
          "output_type": "execute_result",
          "data": {
            "text/plain": [
              "'У всіх інвойсах однакова маржа := 1'"
            ],
            "application/vnd.google.colaboratory.intrinsic+json": {
              "type": "string"
            }
          },
          "metadata": {},
          "execution_count": 24
        }
      ]
    },
    {
      "cell_type": "markdown",
      "source": [
        "Очікуваний результат: відповідь щодо маржі в усіх інвойсах на основі отриманих результатів"
      ],
      "metadata": {
        "id": "YXlTdvOtnYPr"
      }
    },
    {
      "cell_type": "markdown",
      "source": [
        "9. Врахуовуючи висновок в попередньому завданні, дослідимо як продаються в цих містах різні категорії товарів. Виведіть відсотковий розпоіділ кількості інвойсів по категоріям товарів `Product line` в містах `Yangon` та `Mandalay`."
      ],
      "metadata": {
        "id": "NF3oAHQOOSN5"
      }
    },
    {
      "cell_type": "code",
      "source": [
        "distribution = df_filtered.groupby(['City', 'Product line']).size().groupby(level=0, group_keys=False).apply(lambda x: 100 * x / float(x.sum()))\n",
        "sorted_distribution = distribution.sort_values(ascending=False)\n",
        "print(sorted_distribution)"
      ],
      "metadata": {
        "id": "nUgdZmbzQDo4",
        "colab": {
          "base_uri": "https://localhost:8080/"
        },
        "outputId": "2b9e5a35-88ed-4da9-bd71-9b508553bf01"
      },
      "execution_count": 27,
      "outputs": [
        {
          "output_type": "stream",
          "name": "stdout",
          "text": [
            "City      Product line          \n",
            "Yangon    Home and lifestyle        19.117647\n",
            "Mandalay  Fashion accessories       18.674699\n",
            "          Sports and travel         18.674699\n",
            "Yangon    Electronic accessories    17.647059\n",
            "          Sports and travel         17.352941\n",
            "          Food and beverages        17.058824\n",
            "Mandalay  Electronic accessories    16.566265\n",
            "          Health and beauty         15.963855\n",
            "          Food and beverages        15.060241\n",
            "          Home and lifestyle        15.060241\n",
            "Yangon    Fashion accessories       15.000000\n",
            "          Health and beauty         13.823529\n",
            "dtype: float64\n"
          ]
        }
      ]
    },
    {
      "cell_type": "markdown",
      "source": [
        "Очікуваний результат для кожного з міст:"
      ],
      "metadata": {
        "id": "vFhFKSl7meGY"
      }
    },
    {
      "cell_type": "markdown",
      "source": [
        "![](https://drive.google.com/uc?export=view&id=1IbG58YK5KVqC-wCnllF1btgEgfWTbi_O)"
      ],
      "metadata": {
        "id": "pzpOAqu1miuo"
      }
    },
    {
      "cell_type": "markdown",
      "source": [
        "![](https://drive.google.com/uc?export=view&id=1aKOkLmlMq1sOh4GbwyaQyjfhNJzdU4Yh)"
      ],
      "metadata": {
        "id": "imwzMiV4mrXn"
      }
    }
  ]
}