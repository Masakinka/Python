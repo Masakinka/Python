{
  "nbformat": 4,
  "nbformat_minor": 0,
  "metadata": {
    "colab": {
      "provenance": [],
      "include_colab_link": true
    },
    "kernelspec": {
      "name": "python3",
      "display_name": "Python 3"
    },
    "language_info": {
      "name": "python"
    }
  },
  "cells": [
    {
      "cell_type": "markdown",
      "metadata": {
        "id": "view-in-github",
        "colab_type": "text"
      },
      "source": [
        "<a href=\"https://colab.research.google.com/github/Masakinka/Python/blob/main/hw_3_3_%D0%A0%D0%BE%D0%B7%D1%88%D0%B8%D1%80%D0%B5%D0%BD%D1%96_%D0%BC%D0%B5%D1%82%D0%BE%D0%B4%D0%B8_%D0%BE%D0%B1%D1%80%D0%BE%D0%B1%D0%BA%D0%B8_%D0%B4%D0%B0%D0%BD%D0%B8%D1%85_%D1%83_Pandas_.ipynb\" target=\"_parent\"><img src=\"https://colab.research.google.com/assets/colab-badge.svg\" alt=\"Open In Colab\"/></a>"
      ]
    },
    {
      "cell_type": "markdown",
      "source": [
        "# Домашнє завдання до теми \"Розширені методи обробки даних у Pandas\""
      ],
      "metadata": {
        "id": "wF6xe36Osbxi"
      }
    },
    {
      "cell_type": "markdown",
      "source": [
        "В цьому домашньому завданні продовжуємо працювати з набором даних `supermarket_sales.csv`."
      ],
      "metadata": {
        "id": "Fa2CIJElO3L3"
      }
    },
    {
      "cell_type": "markdown",
      "source": [
        "0. Імпортуйте бібліотеку pandas та зчитайте дані у змінну `df` типу `pandas.DataFrame`."
      ],
      "metadata": {
        "id": "z0F_6xB-DQi7"
      }
    },
    {
      "cell_type": "code",
      "source": [
        "import pandas as pd"
      ],
      "metadata": {
        "id": "-4jR3F-rDQi7"
      },
      "execution_count": 1,
      "outputs": []
    },
    {
      "cell_type": "code",
      "source": [
        "from google.colab import drive\n",
        "drive.mount('/content/drive')"
      ],
      "metadata": {
        "colab": {
          "base_uri": "https://localhost:8080/"
        },
        "id": "Shpd1WATP6tK",
        "outputId": "1387bc4a-8f76-4e09-b318-7b803bf110b0"
      },
      "execution_count": 2,
      "outputs": [
        {
          "output_type": "stream",
          "name": "stdout",
          "text": [
            "Mounted at /content/drive\n"
          ]
        }
      ]
    },
    {
      "cell_type": "code",
      "source": [
        "pd.set_option('display.max_columns', None)\n",
        "pd.set_option('display.expand_frame_repr', False)"
      ],
      "metadata": {
        "id": "WDpL2SMjSwZS"
      },
      "execution_count": 7,
      "outputs": []
    },
    {
      "cell_type": "code",
      "source": [
        "df = pd.read_csv('drive/MyDrive/Colab Notebooks/data/supermarket_sales.csv')"
      ],
      "metadata": {
        "id": "1_eGaQJTQe1f"
      },
      "execution_count": 8,
      "outputs": []
    },
    {
      "cell_type": "markdown",
      "source": [
        "1. Відсортуйте дані за спаданням ціни товара ('Unit price') і виведіть 5 перших рядочків на екран."
      ],
      "metadata": {
        "id": "hH26_h5wOLfj"
      }
    },
    {
      "cell_type": "markdown",
      "source": [],
      "metadata": {
        "id": "s94hyPzvQ-cX"
      }
    },
    {
      "cell_type": "code",
      "source": [
        "sorted_df = df.sort_values(by='Unit price', ascending=False)\n",
        "print(sorted_df.head(5))"
      ],
      "metadata": {
        "id": "C_CMIujQN9s6",
        "colab": {
          "base_uri": "https://localhost:8080/"
        },
        "outputId": "5bfe35c6-4ad5-4964-af94-e954ba0659a4"
      },
      "execution_count": 9,
      "outputs": [
        {
          "output_type": "stream",
          "name": "stdout",
          "text": [
            "      Invoice ID Branch       City Customer type Gender         Product line  Unit price  Quantity  Tax 5%    Total       Date   Time      Payment    cogs  gross margin percentage  gross income  Rating\n",
            "983  148-41-7930      C  Naypyitaw        Normal   Male    Health and beauty       99.96         7  34.986  734.706  1/23/2019  10:33         Cash  699.72                 4.761905        34.986     6.1\n",
            "122  219-22-9386      B   Mandalay        Member   Male    Sports and travel       99.96         9  44.982  944.622   3/9/2019  17:26  Credit card  899.64                 4.761905        44.982     4.2\n",
            "930  641-62-7288      B   Mandalay        Normal   Male   Home and lifestyle       99.92         6  29.976  629.496  3/24/2019  13:33      Ewallet  599.52                 4.761905        29.976     7.1\n",
            "494  437-53-3084      B   Mandalay        Normal   Male  Fashion accessories       99.89         2   9.989  209.769  2/26/2019  11:48      Ewallet  199.78                 4.761905         9.989     7.1\n",
            "283  667-92-0055      A     Yangon        Member   Male    Health and beauty       99.83         6  29.949  628.929   3/4/2019  15:02      Ewallet  598.98                 4.761905        29.949     8.5\n"
          ]
        }
      ]
    },
    {
      "cell_type": "markdown",
      "source": [
        "2. Знайдіть інвойс (рядок в даних) в категорії товарів Electronic accessories, в якому був куплений товар з найбільшою кількістю і найбільшою ціною. Виведіть цей рядок даних на екран."
      ],
      "metadata": {
        "id": "H7IyOIfIONXy"
      }
    },
    {
      "cell_type": "code",
      "source": [
        "# Фільтрування DataFrame за категорією 'Electronic accessories'\n",
        "electronics = df[df['Product line'] == 'Electronic accessories']\n",
        "\n",
        "# Знаходження рядка з найбільшою кількістю\n",
        "max_quantity = electronics['Quantity'].max()\n",
        "electronics_max_quantity = electronics[electronics['Quantity'] == max_quantity]\n",
        "\n",
        "# З фільтрованих рядків з максимальною кількістю знаходимо рядок з найбільшою ціною\n",
        "max_price = electronics_max_quantity['Unit price'].max()\n",
        "invoice = electronics_max_quantity[electronics_max_quantity['Unit price'] == max_price]\n",
        "\n",
        "# Виведення рядка з максимальною кількістю і найбільшою ціною\n",
        "print(invoice)"
      ],
      "metadata": {
        "id": "rHtk3rXoNHr5",
        "colab": {
          "base_uri": "https://localhost:8080/"
        },
        "outputId": "81ff37a4-63d5-4589-bd1b-fc6b6d92e9fb"
      },
      "execution_count": 10,
      "outputs": [
        {
          "output_type": "stream",
          "name": "stdout",
          "text": [
            "      Invoice ID Branch    City Customer type Gender            Product line  Unit price  Quantity  Tax 5%    Total       Date   Time  Payment   cogs  gross margin percentage  gross income  Rating\n",
            "105  704-48-3927      A  Yangon        Member   Male  Electronic accessories       88.67        10  44.335  931.035  1/12/2019  14:50  Ewallet  886.7                 4.761905        44.335     7.3\n"
          ]
        }
      ]
    },
    {
      "cell_type": "markdown",
      "source": [
        "3.1. Створіть нову колонку в даних `Rating Category`, яка визначає категорію рейтингу: високий, середній чи низький за наступним правилом:\n",
        "- якщо рейтинг вищий або рівний 8 - то він високий (`High`)\n",
        "- якщо рейтинг від 6 до 8 не включаючи - то він середній (`Medium`)\n",
        "- інакше - низький (`Low`)."
      ],
      "metadata": {
        "id": "n2iSihPRDHvv"
      }
    },
    {
      "cell_type": "code",
      "source": [
        "# Визначення категорії рейтингу на основі значення\n",
        "def rating_category(rating):\n",
        "    if rating >= 8:\n",
        "        return 'High'\n",
        "    elif rating >= 6:\n",
        "        return 'Medium'\n",
        "    else:\n",
        "        return 'Low'\n",
        "\n",
        "# Створення нової колонки 'Rating Category'\n",
        "df['Rating Category'] = df['Rating'].apply(rating_category)\n",
        "\n",
        "# Перегляд результату\n",
        "print(df[['Rating', 'Rating Category']].head())"
      ],
      "metadata": {
        "id": "WfYpk_VdD_sI",
        "colab": {
          "base_uri": "https://localhost:8080/"
        },
        "outputId": "0c9b2e1c-21c0-4700-805d-49236c89e774"
      },
      "execution_count": 11,
      "outputs": [
        {
          "output_type": "stream",
          "name": "stdout",
          "text": [
            "   Rating Rating Category\n",
            "0     9.1            High\n",
            "1     9.6            High\n",
            "2     7.4          Medium\n",
            "3     8.4            High\n",
            "4     5.3             Low\n"
          ]
        }
      ]
    },
    {
      "cell_type": "code",
      "source": [
        "# Встановлення меж для категорій\n",
        "bins = [0, 6, 8, 10]\n",
        "\n",
        "# Назви категорій\n",
        "categories = ['Low', 'Medium', 'High']\n",
        "\n",
        "# Створення нової колонки 'Rating Category' з використанням методу cut\n",
        "df['Rating Category'] = pd.cut(df['Rating'], bins=bins, labels=categories, include_lowest=True)\n",
        "\n",
        "# Перегляд результату\n",
        "print(df[['Rating', 'Rating Category']].head())"
      ],
      "metadata": {
        "colab": {
          "base_uri": "https://localhost:8080/"
        },
        "id": "wlTn53GMU4tB",
        "outputId": "1d7d0c71-7767-4d09-e15e-f64556bd4b1f"
      },
      "execution_count": 16,
      "outputs": [
        {
          "output_type": "stream",
          "name": "stdout",
          "text": [
            "   Rating Rating Category\n",
            "0     9.1            High\n",
            "1     9.6            High\n",
            "2     7.4          Medium\n",
            "3     8.4            High\n",
            "4     5.3             Low\n"
          ]
        }
      ]
    },
    {
      "cell_type": "markdown",
      "source": [
        "3.2. Виведіть, який відсоток даних становить кожне зі значень категорій рейтингу."
      ],
      "metadata": {
        "id": "0tTSRjXDEdDe"
      }
    },
    {
      "cell_type": "code",
      "source": [
        "# Обчислення відсотка для кожної категорії рейтингу\n",
        "percentage = df['Rating Category'].value_counts(normalize=True) * 100\n",
        "\n",
        "# Виведення результату\n",
        "print(percentage)"
      ],
      "metadata": {
        "id": "gYd_Y96ODS3a",
        "colab": {
          "base_uri": "https://localhost:8080/"
        },
        "outputId": "d28a5e83-fbcb-4148-8d41-8cf90d820327"
      },
      "execution_count": 15,
      "outputs": [
        {
          "output_type": "stream",
          "name": "stdout",
          "text": [
            "Medium    35.6\n",
            "High      32.9\n",
            "Low       31.5\n",
            "Name: Rating Category, dtype: float64\n"
          ]
        }
      ]
    },
    {
      "cell_type": "markdown",
      "source": [
        "4.1. Запустіть код нижче аби створити змінну `time`. Ця змінна містить час в форматі \"година:хвилина\". Напишіть функцію `get_hour`, яка буде зі змінної формату як `time` дістати лише години і конвертувати їх у тип `int`.\n",
        "\n",
        "Запустіть написану функцію на змінній `time` та перевірте правильність роботи функції."
      ],
      "metadata": {
        "id": "qGPne8sFHGGM"
      }
    },
    {
      "cell_type": "code",
      "source": [
        "time = '11:28'"
      ],
      "metadata": {
        "id": "OZ2DD2AGEZme"
      },
      "execution_count": 17,
      "outputs": []
    },
    {
      "cell_type": "code",
      "source": [
        "# Функція для отримання години з рядка часу та конвертації в ціле число\n",
        "def get_hour(time_str):\n",
        "    # Розділення рядка по двокрапці та конвертація першої частини (години) в ціле число\n",
        "    return int(time_str.split(':')[0])\n",
        "\n",
        "# Тестовий час\n",
        "time = '11:28'\n",
        "\n",
        "# Виконання функції та перевірка результату\n",
        "get_hour(time)"
      ],
      "metadata": {
        "id": "BxDWBPalHimp",
        "colab": {
          "base_uri": "https://localhost:8080/"
        },
        "outputId": "12fad5b9-88ed-4e8a-80b7-1195a615954e"
      },
      "execution_count": 18,
      "outputs": [
        {
          "output_type": "execute_result",
          "data": {
            "text/plain": [
              "11"
            ]
          },
          "metadata": {},
          "execution_count": 18
        }
      ]
    },
    {
      "cell_type": "code",
      "source": [
        "# Визначення lambda функції для отримання години з рядка часу\n",
        "get_hour_lambda = lambda time_str: int(time_str.split(':')[0])\n",
        "\n",
        "# Виконання lambda функції на змінній time\n",
        "get_hour_lambda(time)"
      ],
      "metadata": {
        "colab": {
          "base_uri": "https://localhost:8080/"
        },
        "id": "Ar37Zpn0V-at",
        "outputId": "8e2f80fe-b909-4415-cd8e-9db294a8914f"
      },
      "execution_count": 19,
      "outputs": [
        {
          "output_type": "execute_result",
          "data": {
            "text/plain": [
              "11"
            ]
          },
          "metadata": {},
          "execution_count": 19
        }
      ]
    },
    {
      "cell_type": "markdown",
      "source": [
        "4.2. З допомогою функції `get_hour` і метода `DataFrame.apply()` створіть нову колонку `Hour` в нашому наборі даних, яка буде містити години здійснення покупки, обчислені на основі часу здійснення покупки `Time`."
      ],
      "metadata": {
        "id": "3F7Nmc84IM9C"
      }
    },
    {
      "cell_type": "code",
      "source": [
        "# Створення нової колонки 'Hour'\n",
        "df['Hour'] = df['Time'].apply(get_hour)\n",
        "\n",
        "# Перегляд результату\n",
        "print(df[['Time', 'Hour']].head())"
      ],
      "metadata": {
        "id": "P-DQNIwQH_Io",
        "colab": {
          "base_uri": "https://localhost:8080/"
        },
        "outputId": "e7c1ed84-63dd-48ca-aeee-2d15ec80e43e"
      },
      "execution_count": 20,
      "outputs": [
        {
          "output_type": "stream",
          "name": "stdout",
          "text": [
            "    Time  Hour\n",
            "0  13:08    13\n",
            "1  10:29    10\n",
            "2  13:23    13\n",
            "3  20:33    20\n",
            "4  10:37    10\n"
          ]
        }
      ]
    },
    {
      "cell_type": "markdown",
      "source": [
        " 4.3. Виведіть кількість значень за кожною годиною покупки і дайте відповідь \"О яких годинах найбільше здійснюють покупок покупці і чому на Ваш погляд саме о цих годинах? Чи це слогічно, що найбільше покупок саме в ці години?\".**"
      ],
      "metadata": {
        "id": "VcuugIB2IszQ"
      }
    },
    {
      "cell_type": "code",
      "source": [
        "# Розрахунок кількості покупок за кожною годиною\n",
        "hourly_sales = df['Hour'].value_counts().sort_index()\n",
        "\n",
        "# Виведення результату\n",
        "print(hourly_sales)\n"
      ],
      "metadata": {
        "id": "5NgTbHM8I-Or",
        "colab": {
          "base_uri": "https://localhost:8080/"
        },
        "outputId": "978dc530-2037-464e-f673-ed3d08c3ba60"
      },
      "execution_count": 21,
      "outputs": [
        {
          "output_type": "stream",
          "name": "stdout",
          "text": [
            "10    101\n",
            "11     90\n",
            "12     89\n",
            "13    103\n",
            "14     83\n",
            "15    102\n",
            "16     77\n",
            "17     74\n",
            "18     93\n",
            "19    113\n",
            "20     75\n",
            "Name: Hour, dtype: int64\n"
          ]
        }
      ]
    },
    {
      "cell_type": "markdown",
      "source": [
        " 5. Виведіть середнє значення чеку (`Total`) для покупок в містах, наявних в даних, за допомогою функції `groupby`."
      ],
      "metadata": {
        "id": "vUniX9GAKtco"
      }
    },
    {
      "cell_type": "code",
      "source": [
        "# Групування даних за містом і обчислення середнього значення чеку\n",
        "average_totals_per_city = df.groupby('City')['Total'].mean()\n",
        "\n",
        "# Виведення результату\n",
        "print(average_totals_per_city)"
      ],
      "metadata": {
        "id": "eWRBQoO_JBY3",
        "colab": {
          "base_uri": "https://localhost:8080/"
        },
        "outputId": "5ed128e2-cf3e-4e7c-94a7-4a8ca5b84558"
      },
      "execution_count": 22,
      "outputs": [
        {
          "output_type": "stream",
          "name": "stdout",
          "text": [
            "City\n",
            "Mandalay     319.872506\n",
            "Naypyitaw    337.099715\n",
            "Yangon       312.354031\n",
            "Name: Total, dtype: float64\n"
          ]
        }
      ]
    },
    {
      "cell_type": "markdown",
      "source": [
        "6. Виведіть кількість покупок, середнє, мінімальне та максимальне значення для загальної суми чеку (Total) в містах, наявних в даних, за допомогою функції groupby.\n",
        "Зробіть висновки з цих показників та дайте рекомендації для мережі супермаркетів."
      ],
      "metadata": {
        "id": "kgXBFApjLQxp"
      }
    },
    {
      "cell_type": "code",
      "source": [
        "# Групування даних за містом і обчислення кількості, середнього, мінімуму, максимуму для 'Total'\n",
        "city_stats = df.groupby('City')['Total'].agg(['count', 'mean', 'min', 'max'])\n",
        "\n",
        "# Виведення результату\n",
        "print(city_stats)"
      ],
      "metadata": {
        "id": "qdspE5eWK0bq",
        "colab": {
          "base_uri": "https://localhost:8080/"
        },
        "outputId": "4f727cb0-1858-4b45-8d4e-cc44b63bc5a4"
      },
      "execution_count": 23,
      "outputs": [
        {
          "output_type": "stream",
          "name": "stdout",
          "text": [
            "           count        mean      min      max\n",
            "City                                          \n",
            "Mandalay     332  319.872506  18.6375  1022.49\n",
            "Naypyitaw    328  337.099715  10.6785  1042.65\n",
            "Yangon       340  312.354031  12.6945  1039.29\n"
          ]
        }
      ]
    },
    {
      "cell_type": "markdown",
      "source": [
        "Naypyitaw має найвище середнє значення чеку. Це може вказувати на те, що покупці в Naypyitaw мають вищу купівельну спроможність або що супермаркети в цьому місті пропонують товари, які є більш преміальними або дорожчими. Мережі супермаркетів може бути доцільно розглянути можливість запровадження або розширення асортименту вищого сегменту в цьому місті.\n",
        "\n",
        "Mandalay та Yangon мають порівняно схожі середні суми чеку, але Yangon має трохи більшу кількість покупок. Це може вказувати на то, що Yangon має більшу або більш активну базу клієнтів. Супермаркетам у Yangon може бути корисно зосередитися на покращенні обслуговування клієнтів та маркетингу для збереження та зростання клієнтської бази.\n",
        "\n",
        "Максимальні суми чеків є досить високими у всіх трьох містах, що свідчить про наявність покупок великого обсягу. Супермаркетам варто аналізувати, що спонукає до таких покупок, і використовувати цю інформацію для розробки цільових пропозицій.\n",
        "\n",
        "Базові рекомендації:\n",
        "1.Аналізувати споживчу поведінку у містах з найбільшими чеками для виявлення можливостей для збільшення продажів.\n",
        "2 Запровадити програми лояльності для стимулювання повторних покупок у містах з нижчим середнім чеком.\n",
        "3 Розглянути можливості для розширення в містах з найбільшою кількістю покупок для забезпечення достатньої пропускної спроможності та комфорту покупців.\n",
        "З цих даних також видно, що всі міста мають порівняну кількість покупок, що може свідчити про наявність стабільної клієнтської бази. Однак, особлива увага на середній чек у Naypyitaw може свідчити про можливості для зростання в цьому місті, особливо якщо ці показники є результатом вибору товарів вищої цінової категорії, а не просто більших обсягів покупок."
      ],
      "metadata": {
        "id": "87i7ESYsXnPv"
      }
    },
    {
      "cell_type": "markdown",
      "source": [
        "7. Ми внесли деякі зміни в наш набір даних, тож, давайте запишемо результат у файл. Запишіть оновлену версію даних у файл `supermarket_sales_enriched.csv`. Зверніть увагу, аби не записати нічого зайвого, наприклад, індекси рядків нам в файлі не потрібні, оскільки вони стандартні."
      ],
      "metadata": {
        "id": "_GPVYoEe6M9E"
      }
    },
    {
      "cell_type": "code",
      "source": [
        "# Запис оновленої версії DataFrame df в CSV файл\n",
        "df.to_csv('supermarket_sales_enriched.csv', index=False)"
      ],
      "metadata": {
        "id": "MyEE8sAR6ele"
      },
      "execution_count": 24,
      "outputs": []
    },
    {
      "cell_type": "code",
      "source": [
        "print(df.head(4))"
      ],
      "metadata": {
        "colab": {
          "base_uri": "https://localhost:8080/"
        },
        "id": "4SK84P9xYtaw",
        "outputId": "c8173e8b-5aed-4663-90e5-da5e56d5bbed"
      },
      "execution_count": 25,
      "outputs": [
        {
          "output_type": "stream",
          "name": "stdout",
          "text": [
            "    Invoice ID Branch       City Customer type  Gender            Product line  Unit price  Quantity   Tax 5%     Total       Date   Time      Payment    cogs  gross margin percentage  gross income  Rating Rating Category  Hour\n",
            "0  750-67-8428      A     Yangon        Member  Female       Health and beauty       74.69         7  26.1415  548.9715   1/5/2019  13:08      Ewallet  522.83                 4.761905       26.1415     9.1            High    13\n",
            "1  226-31-3081      C  Naypyitaw        Normal  Female  Electronic accessories       15.28         5   3.8200   80.2200   3/8/2019  10:29         Cash   76.40                 4.761905        3.8200     9.6            High    10\n",
            "2  631-41-3108      A     Yangon        Normal    Male      Home and lifestyle       46.33         7  16.2155  340.5255   3/3/2019  13:23  Credit card  324.31                 4.761905       16.2155     7.4          Medium    13\n",
            "3  123-19-1176      A     Yangon        Member    Male       Health and beauty       58.22         8  23.2880  489.0480  1/27/2019  20:33      Ewallet  465.76                 4.761905       23.2880     8.4            High    20\n"
          ]
        }
      ]
    }
  ]
}